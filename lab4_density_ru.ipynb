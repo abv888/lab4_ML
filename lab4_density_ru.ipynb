{
  "nbformat": 4,
  "nbformat_minor": 0,
  "metadata": {
    "kernelspec": {
      "display_name": "Python 3",
      "language": "python",
      "name": "python3"
    },
    "language_info": {
      "codemirror_mode": {
        "name": "ipython",
        "version": 3
      },
      "file_extension": ".py",
      "mimetype": "text/x-python",
      "name": "python",
      "nbconvert_exporter": "python",
      "pygments_lexer": "ipython3",
      "version": "3.8.8"
    },
    "colab": {
      "name": "lab4-density-ru.ipynb",
      "provenance": []
    },
    "accelerator": "GPU"
  },
  "cells": [
    {
      "cell_type": "markdown",
      "metadata": {
        "id": "nYgNf20vLWJ9"
      },
      "source": [
        "## Лабораторная 4: восстановление плотности распределения"
      ]
    },
    {
      "cell_type": "markdown",
      "metadata": {
        "id": "mFVWpOsFLWKA"
      },
      "source": [
        "Данными в этом задании являются измерения некоторых проверочных параметров на конвейерах  сборки оборудования Bosh (см. [конкурс](https://www.kaggle.com/c/bosch-production-line-performance) «Bosch Production Line Performance» на Kaggle). \n",
        "\n",
        "Все исходные данные Bosh не помещаются в оперативную память компьютера, поэтому в файле `data.csv` — лишь некоторые признаки. Прочтите данные из файла `data.csv`. Целевым признаком здесь является `Response` — наличие брака в оборудовании. "
      ]
    },
    {
      "cell_type": "code",
      "metadata": {
        "id": "_VEe3c2jLWKC"
      },
      "source": [
        "import pandas as pd"
      ],
      "execution_count": 2,
      "outputs": []
    },
    {
      "cell_type": "code",
      "metadata": {
        "id": "Lxo2LMEPLWKD"
      },
      "source": [
        "dataframe = pd.read_csv('data.csv')"
      ],
      "execution_count": 3,
      "outputs": []
    },
    {
      "cell_type": "code",
      "metadata": {
        "colab": {
          "base_uri": "https://localhost:8080/",
          "height": 979
        },
        "id": "lm6xaL6DLWKE",
        "outputId": "bb9f0105-fdb7-49c0-c441-173bdfe9de12"
      },
      "source": [
        "dataframe.head(30)"
      ],
      "execution_count": 4,
      "outputs": [
        {
          "output_type": "execute_result",
          "data": {
            "text/html": [
              "<div>\n",
              "<style scoped>\n",
              "    .dataframe tbody tr th:only-of-type {\n",
              "        vertical-align: middle;\n",
              "    }\n",
              "\n",
              "    .dataframe tbody tr th {\n",
              "        vertical-align: top;\n",
              "    }\n",
              "\n",
              "    .dataframe thead th {\n",
              "        text-align: right;\n",
              "    }\n",
              "</style>\n",
              "<table border=\"1\" class=\"dataframe\">\n",
              "  <thead>\n",
              "    <tr style=\"text-align: right;\">\n",
              "      <th></th>\n",
              "      <th>L1_S24_F1844</th>\n",
              "      <th>L1_S24_F1846</th>\n",
              "      <th>Response</th>\n",
              "    </tr>\n",
              "  </thead>\n",
              "  <tbody>\n",
              "    <tr>\n",
              "      <th>0</th>\n",
              "      <td>-0.123</td>\n",
              "      <td>0.111</td>\n",
              "      <td>0</td>\n",
              "    </tr>\n",
              "    <tr>\n",
              "      <th>1</th>\n",
              "      <td>-0.269</td>\n",
              "      <td>0.175</td>\n",
              "      <td>0</td>\n",
              "    </tr>\n",
              "    <tr>\n",
              "      <th>2</th>\n",
              "      <td>-0.058</td>\n",
              "      <td>0.141</td>\n",
              "      <td>0</td>\n",
              "    </tr>\n",
              "    <tr>\n",
              "      <th>3</th>\n",
              "      <td>0.136</td>\n",
              "      <td>-0.145</td>\n",
              "      <td>0</td>\n",
              "    </tr>\n",
              "    <tr>\n",
              "      <th>4</th>\n",
              "      <td>0.045</td>\n",
              "      <td>-0.094</td>\n",
              "      <td>0</td>\n",
              "    </tr>\n",
              "    <tr>\n",
              "      <th>5</th>\n",
              "      <td>-0.152</td>\n",
              "      <td>0.181</td>\n",
              "      <td>0</td>\n",
              "    </tr>\n",
              "    <tr>\n",
              "      <th>6</th>\n",
              "      <td>0.233</td>\n",
              "      <td>0.045</td>\n",
              "      <td>0</td>\n",
              "    </tr>\n",
              "    <tr>\n",
              "      <th>7</th>\n",
              "      <td>0.327</td>\n",
              "      <td>-0.193</td>\n",
              "      <td>0</td>\n",
              "    </tr>\n",
              "    <tr>\n",
              "      <th>8</th>\n",
              "      <td>-0.020</td>\n",
              "      <td>-0.097</td>\n",
              "      <td>0</td>\n",
              "    </tr>\n",
              "    <tr>\n",
              "      <th>9</th>\n",
              "      <td>-0.029</td>\n",
              "      <td>0.122</td>\n",
              "      <td>0</td>\n",
              "    </tr>\n",
              "    <tr>\n",
              "      <th>10</th>\n",
              "      <td>-0.326</td>\n",
              "      <td>0.190</td>\n",
              "      <td>0</td>\n",
              "    </tr>\n",
              "    <tr>\n",
              "      <th>11</th>\n",
              "      <td>-0.030</td>\n",
              "      <td>0.111</td>\n",
              "      <td>0</td>\n",
              "    </tr>\n",
              "    <tr>\n",
              "      <th>12</th>\n",
              "      <td>-0.080</td>\n",
              "      <td>0.160</td>\n",
              "      <td>0</td>\n",
              "    </tr>\n",
              "    <tr>\n",
              "      <th>13</th>\n",
              "      <td>0.285</td>\n",
              "      <td>-0.174</td>\n",
              "      <td>0</td>\n",
              "    </tr>\n",
              "    <tr>\n",
              "      <th>14</th>\n",
              "      <td>0.183</td>\n",
              "      <td>0.068</td>\n",
              "      <td>0</td>\n",
              "    </tr>\n",
              "    <tr>\n",
              "      <th>15</th>\n",
              "      <td>0.210</td>\n",
              "      <td>-0.160</td>\n",
              "      <td>0</td>\n",
              "    </tr>\n",
              "    <tr>\n",
              "      <th>16</th>\n",
              "      <td>0.236</td>\n",
              "      <td>-0.171</td>\n",
              "      <td>0</td>\n",
              "    </tr>\n",
              "    <tr>\n",
              "      <th>17</th>\n",
              "      <td>-0.013</td>\n",
              "      <td>-0.100</td>\n",
              "      <td>0</td>\n",
              "    </tr>\n",
              "    <tr>\n",
              "      <th>18</th>\n",
              "      <td>0.154</td>\n",
              "      <td>0.080</td>\n",
              "      <td>0</td>\n",
              "    </tr>\n",
              "    <tr>\n",
              "      <th>19</th>\n",
              "      <td>0.347</td>\n",
              "      <td>-0.196</td>\n",
              "      <td>0</td>\n",
              "    </tr>\n",
              "    <tr>\n",
              "      <th>20</th>\n",
              "      <td>0.081</td>\n",
              "      <td>-0.126</td>\n",
              "      <td>0</td>\n",
              "    </tr>\n",
              "    <tr>\n",
              "      <th>21</th>\n",
              "      <td>0.030</td>\n",
              "      <td>0.121</td>\n",
              "      <td>0</td>\n",
              "    </tr>\n",
              "    <tr>\n",
              "      <th>22</th>\n",
              "      <td>0.094</td>\n",
              "      <td>0.122</td>\n",
              "      <td>0</td>\n",
              "    </tr>\n",
              "    <tr>\n",
              "      <th>23</th>\n",
              "      <td>0.094</td>\n",
              "      <td>0.122</td>\n",
              "      <td>0</td>\n",
              "    </tr>\n",
              "    <tr>\n",
              "      <th>24</th>\n",
              "      <td>0.352</td>\n",
              "      <td>-0.205</td>\n",
              "      <td>0</td>\n",
              "    </tr>\n",
              "    <tr>\n",
              "      <th>25</th>\n",
              "      <td>-0.060</td>\n",
              "      <td>-0.109</td>\n",
              "      <td>0</td>\n",
              "    </tr>\n",
              "    <tr>\n",
              "      <th>26</th>\n",
              "      <td>-0.171</td>\n",
              "      <td>0.158</td>\n",
              "      <td>0</td>\n",
              "    </tr>\n",
              "    <tr>\n",
              "      <th>27</th>\n",
              "      <td>0.137</td>\n",
              "      <td>0.097</td>\n",
              "      <td>0</td>\n",
              "    </tr>\n",
              "    <tr>\n",
              "      <th>28</th>\n",
              "      <td>-0.145</td>\n",
              "      <td>0.177</td>\n",
              "      <td>0</td>\n",
              "    </tr>\n",
              "    <tr>\n",
              "      <th>29</th>\n",
              "      <td>0.153</td>\n",
              "      <td>0.098</td>\n",
              "      <td>0</td>\n",
              "    </tr>\n",
              "  </tbody>\n",
              "</table>\n",
              "</div>"
            ],
            "text/plain": [
              "    L1_S24_F1844  L1_S24_F1846  Response\n",
              "0         -0.123         0.111         0\n",
              "1         -0.269         0.175         0\n",
              "2         -0.058         0.141         0\n",
              "3          0.136        -0.145         0\n",
              "4          0.045        -0.094         0\n",
              "5         -0.152         0.181         0\n",
              "6          0.233         0.045         0\n",
              "7          0.327        -0.193         0\n",
              "8         -0.020        -0.097         0\n",
              "9         -0.029         0.122         0\n",
              "10        -0.326         0.190         0\n",
              "11        -0.030         0.111         0\n",
              "12        -0.080         0.160         0\n",
              "13         0.285        -0.174         0\n",
              "14         0.183         0.068         0\n",
              "15         0.210        -0.160         0\n",
              "16         0.236        -0.171         0\n",
              "17        -0.013        -0.100         0\n",
              "18         0.154         0.080         0\n",
              "19         0.347        -0.196         0\n",
              "20         0.081        -0.126         0\n",
              "21         0.030         0.121         0\n",
              "22         0.094         0.122         0\n",
              "23         0.094         0.122         0\n",
              "24         0.352        -0.205         0\n",
              "25        -0.060        -0.109         0\n",
              "26        -0.171         0.158         0\n",
              "27         0.137         0.097         0\n",
              "28        -0.145         0.177         0\n",
              "29         0.153         0.098         0"
            ]
          },
          "metadata": {},
          "execution_count": 4
        }
      ]
    },
    {
      "cell_type": "markdown",
      "metadata": {
        "id": "f2GyW9XrLWKF"
      },
      "source": [
        "## 1 \n",
        "Постройте на одном графике два приближения к плотности распределения признака `L1_S24_F1846` для `Response = 0` и для `Response = 1`, используя одно из следующих ядер (номер ядра выберите по формуле: `(n mod 6) + 1`, где `n` — ваш номер в списке группы):\n",
        "\n",
        "    1.\tкусочно-постоянное (прямоугольное) -  tophat\n",
        "    2.\tгауссовское -  gaussian\n",
        "    3.\tлинейное (треугольник) -  linear\n",
        "    4.\tкосинусоидальное -  cosine\n",
        "    5.\tквадратичное (Епанечникова) -  epanechnikov\n",
        "    6.\tэкспоненциальное -  exponential\n"
      ]
    },
    {
      "cell_type": "code",
      "metadata": {
        "id": "KccZ2tzELWKG"
      },
      "source": [
        "# Ядро номер 4 - cosine"
      ],
      "execution_count": 5,
      "outputs": []
    },
    {
      "cell_type": "code",
      "metadata": {
        "id": "Pd08cMR9LWKH"
      },
      "source": [
        ""
      ],
      "execution_count": 5,
      "outputs": []
    },
    {
      "cell_type": "code",
      "metadata": {
        "id": "_DYIyf0LLWKH"
      },
      "source": [
        "from sklearn.neighbors import KernelDensity\n",
        "import numpy as np\n",
        "\n",
        "import matplotlib.pyplot as plt"
      ],
      "execution_count": 6,
      "outputs": []
    },
    {
      "cell_type": "markdown",
      "metadata": {
        "id": "ynQL2emaLWKI"
      },
      "source": [
        "*Help:*\n",
        "\n",
        "    i0 = data['Response'] == 0\n",
        "    kde0 = KernelDensity(kernel='gaussian', bandwidth=0.1).fit(data.loc[i0, 'L1_S24_F1846'].values.reshape(-1, 1))\n",
        "    X_plot = np.linspace(-1, 1, 1000).reshape(-1, 1)\n",
        "    Dens0 = np.exp(kde0.score_samples(X_plot))  # score_samples возвращает логарифм плотности"
      ]
    },
    {
      "cell_type": "code",
      "metadata": {
        "colab": {
          "base_uri": "https://localhost:8080/",
          "height": 265
        },
        "id": "4xUAlTx1LWKJ",
        "outputId": "8f75ac27-a7c9-4586-fb26-d4461e6766c1"
      },
      "source": [
        "X_plot = np.linspace(-1, 1, 1000).reshape(-1, 1)\n",
        "\n",
        "kde0 = KernelDensity(kernel='cosine', bandwidth=0.1).fit(dataframe.loc[dataframe['Response'] == 0, 'L1_S24_F1846'].values.reshape(-1, 1))\n",
        "Dens0 = np.exp(kde0.score_samples(X_plot))\n",
        "kde1 = KernelDensity(kernel='cosine', bandwidth=0.1).fit(dataframe.loc[dataframe['Response'] == 1, 'L1_S24_F1846'].values.reshape(-1, 1))\n",
        "Dens1 = np.exp(kde1.score_samples(X_plot))\n",
        "\n",
        "figure, ax = plt.subplots()\n",
        "ax.scatter(X_plot, Dens0, s=30, c = \"b\")\n",
        "ax.scatter(X_plot, Dens1, s=30, c = \"r\")\n",
        "plt.show()"
      ],
      "execution_count": 7,
      "outputs": [
        {
          "output_type": "display_data",
          "data": {
            "image/png": "[encoded data removed]",
            "text/plain": [
              "<Figure size 432x288 with 1 Axes>"
            ]
          },
          "metadata": {
            "needs_background": "light"
          }
        }
      ]
    },
    {
      "cell_type": "markdown",
      "metadata": {
        "id": "JracHkYHLWKK"
      },
      "source": [
        "Ответьте в комментариях на вопрос: является ли выборка хорошо разделимой по признаку  `L1_S24_F1846`?"
      ]
    },
    {
      "cell_type": "code",
      "metadata": {
        "id": "46HrWRW2LWKL"
      },
      "source": [
        "\n",
        "# Я считаю, что не является, так как графики в случае этого признака практически совпадают, \n",
        "# применив признак L1_S24_F1844 разделение получается более явным"
      ],
      "execution_count": 8,
      "outputs": []
    },
    {
      "cell_type": "markdown",
      "metadata": {
        "id": "k9dXt8QfLWKM"
      },
      "source": [
        "## 2"
      ]
    },
    {
      "cell_type": "markdown",
      "metadata": {
        "id": "iB9C3iY9LWKM"
      },
      "source": [
        "Разбейте выборку `data` на две равные части: тренировочную `dataTrain` и проверочную `dataTest`. "
      ]
    },
    {
      "cell_type": "code",
      "metadata": {
        "id": "piuzXcelLWKN"
      },
      "source": [
        "dataTrain = dataframe.loc[0:dataframe.shape[0] / 2, ].reset_index(drop=True)\n",
        "dataTest = dataframe.loc[dataframe.shape[0] / 2:dataframe.shape[0], ].reset_index(drop=True)"
      ],
      "execution_count": 9,
      "outputs": []
    },
    {
      "cell_type": "markdown",
      "metadata": {
        "id": "YOIF2Kr9LWKO"
      },
      "source": [
        "Пользуясь кросс-валидацией, подберите **для каждого класса `Response` (`r=0` и `r=1`)** значение ширины ядра `bandwidth`, при котором логарифм правдоподобия максимален на проверочной выборке.\n",
        "\n",
        "*Help:*\n",
        "\n",
        "    r = 0\n",
        "    kde0 = KernelDensity(kernel='gaussian', bandwidth=0.05)\n",
        "    kde0.fit(dataTrain.loc[dataTrain['Response']==r, 'L1_S24_F1846'].values.reshape(-1, 1))\n",
        "    logProbability0 = kde0.score_samples(dataTest.loc[dataTest['Response']==r, 'L1_S24_F1846'].values.reshape(-1, 1))\n",
        "    logProbability0[np.isinf(logProbability0)] = -100 # заменяем -бесконечность\n",
        "    logLikehood0 = logProbability0.sum()\n",
        "    print(logLikehood0)"
      ]
    },
    {
      "cell_type": "code",
      "metadata": {
        "colab": {
          "base_uri": "https://localhost:8080/"
        },
        "id": "cj1S_sg_LWKP",
        "outputId": "377e14d6-6fbb-440a-9826-00bb68704bb3"
      },
      "source": [
        "r = 0\n",
        "kde0 = KernelDensity(kernel='cosine', bandwidth=0.05)\n",
        "kde0.fit(dataTrain.loc[dataTrain['Response']==r, 'L1_S24_F1846'].values.reshape(-1, 1))\n",
        "logProbability0 = kde0.score_samples(dataTest.loc[dataTest['Response']==r, 'L1_S24_F1846'].values.reshape(-1, 1))\n",
        "logProbability0[np.isinf(logProbability0)] = -100 # заменяем -бесконечность\n",
        "logLikehood0 = logProbability0.sum()\n",
        "print(logLikehood0)"
      ],
      "execution_count": 20,
      "outputs": [
        {
          "output_type": "stream",
          "name": "stdout",
          "text": [
            "22014.938082574587\n"
          ]
        }
      ]
    },
    {
      "cell_type": "code",
      "metadata": {
        "colab": {
          "base_uri": "https://localhost:8080/"
        },
        "id": "iOx_wgTXLWKQ",
        "outputId": "a8664b83-4d29-4311-a637-937ebc820d85"
      },
      "source": [
        "r = 1\n",
        "kde1 = KernelDensity(kernel='cosine', bandwidth=0.05)\n",
        "kde1.fit(dataTrain.loc[dataTrain['Response']==r, 'L1_S24_F1846'].values.reshape(-1, 1))\n",
        "logProbability1 = kde1.score_samples(dataTest.loc[dataTest['Response']==r, 'L1_S24_F1846'].values.reshape(-1, 1))\n",
        "logProbability1[np.isinf(logProbability1)] = -100 # заменяем -бесконечность\n",
        "logLikehood1 = logProbability1.sum()\n",
        "print(logLikehood1)"
      ],
      "execution_count": 21,
      "outputs": [
        {
          "output_type": "stream",
          "name": "stdout",
          "text": [
            "114.50762919404988\n"
          ]
        }
      ]
    },
    {
      "cell_type": "code",
      "metadata": {
        "id": "mx8TBQybLWKR"
      },
      "source": [
        "from sklearn.model_selection import GridSearchCV"
      ],
      "execution_count": 12,
      "outputs": []
    },
    {
      "cell_type": "code",
      "metadata": {
        "colab": {
          "base_uri": "https://localhost:8080/"
        },
        "id": "FW3Ip8qGLWKS",
        "outputId": "d8d0dd21-88f2-486d-ffcd-0201e11b7cf8"
      },
      "source": [
        "params = {'bandwidth': np.linspace(0, 1, 20)}\n",
        "grid0 = GridSearchCV(KernelDensity(kernel='cosine'), params)\n",
        "grid0.fit(dataTrain.loc[dataTrain['Response']==0, 'L1_S24_F1846'].values.reshape(-1, 1))"
      ],
      "execution_count": 17,
      "outputs": [
        {
          "output_type": "execute_result",
          "data": {
            "text/plain": [
              "GridSearchCV(cv=None, error_score=nan,\n",
              "             estimator=KernelDensity(algorithm='auto', atol=0, bandwidth=1.0,\n",
              "                                     breadth_first=True, kernel='cosine',\n",
              "                                     leaf_size=40, metric='euclidean',\n",
              "                                     metric_params=None, rtol=0),\n",
              "             iid='deprecated', n_jobs=None,\n",
              "             param_grid={'bandwidth': array([0.        , 0.05263158, 0.10526316, 0.15789474, 0.21052632,\n",
              "       0.26315789, 0.31578947, 0.36842105, 0.42105263, 0.47368421,\n",
              "       0.52631579, 0.57894737, 0.63157895, 0.68421053, 0.73684211,\n",
              "       0.78947368, 0.84210526, 0.89473684, 0.94736842, 1.        ])},\n",
              "             pre_dispatch='2*n_jobs', refit=True, return_train_score=False,\n",
              "             scoring=None, verbose=0)"
            ]
          },
          "metadata": {},
          "execution_count": 17
        }
      ]
    },
    {
      "cell_type": "code",
      "metadata": {
        "id": "jlP3r9rKNnCH",
        "outputId": "ebd6ad44-64d4-4935-b7c1-bae92b4bc4a7",
        "colab": {
          "base_uri": "https://localhost:8080/"
        }
      },
      "source": [
        "grid0.best_params_"
      ],
      "execution_count": 18,
      "outputs": [
        {
          "output_type": "execute_result",
          "data": {
            "text/plain": [
              "{'bandwidth': 0.05263157894736842}"
            ]
          },
          "metadata": {},
          "execution_count": 18
        }
      ]
    },
    {
      "cell_type": "code",
      "metadata": {
        "id": "ztGYI7-jNnRw",
        "outputId": "afded49c-abe1-4c31-bdef-c7ecd57f0782",
        "colab": {
          "base_uri": "https://localhost:8080/"
        }
      },
      "source": [
        "r = 0\n",
        "kde0 = KernelDensity(kernel='cosine', bandwidth=0.05263157894736842)\n",
        "kde0.fit(dataTrain.loc[dataTrain['Response']==r, 'L1_S24_F1846'].values.reshape(-1, 1))\n",
        "logProbability0 = kde0.score_samples(dataTest.loc[dataTest['Response']==r, 'L1_S24_F1846'].values.reshape(-1, 1))\n",
        "logProbability0[np.isinf(logProbability0)] = -100 # заменяем -бесконечность\n",
        "logLikehood0 = logProbability0.sum()\n",
        "print(logLikehood0)"
      ],
      "execution_count": 19,
      "outputs": [
        {
          "output_type": "stream",
          "name": "stdout",
          "text": [
            "22018.63166629551\n"
          ]
        }
      ]
    },
    {
      "cell_type": "code",
      "metadata": {
        "id": "PsCtWJ2lU37-",
        "outputId": "05fe66ef-e521-4397-c0c5-07ae894d5e24",
        "colab": {
          "base_uri": "https://localhost:8080/"
        }
      },
      "source": [
        "grid1 = GridSearchCV(KernelDensity(kernel='cosine'), params)\n",
        "grid1.fit(dataTrain.loc[dataTrain['Response']==1, 'L1_S24_F1846'].values.reshape(-1, 1))"
      ],
      "execution_count": 22,
      "outputs": [
        {
          "output_type": "execute_result",
          "data": {
            "text/plain": [
              "GridSearchCV(cv=None, error_score=nan,\n",
              "             estimator=KernelDensity(algorithm='auto', atol=0, bandwidth=1.0,\n",
              "                                     breadth_first=True, kernel='cosine',\n",
              "                                     leaf_size=40, metric='euclidean',\n",
              "                                     metric_params=None, rtol=0),\n",
              "             iid='deprecated', n_jobs=None,\n",
              "             param_grid={'bandwidth': array([0.        , 0.05263158, 0.10526316, 0.15789474, 0.21052632,\n",
              "       0.26315789, 0.31578947, 0.36842105, 0.42105263, 0.47368421,\n",
              "       0.52631579, 0.57894737, 0.63157895, 0.68421053, 0.73684211,\n",
              "       0.78947368, 0.84210526, 0.89473684, 0.94736842, 1.        ])},\n",
              "             pre_dispatch='2*n_jobs', refit=True, return_train_score=False,\n",
              "             scoring=None, verbose=0)"
            ]
          },
          "metadata": {},
          "execution_count": 22
        }
      ]
    },
    {
      "cell_type": "code",
      "metadata": {
        "colab": {
          "base_uri": "https://localhost:8080/"
        },
        "id": "QQ5chOGTLWKT",
        "outputId": "591894a9-ae4f-4b30-de16-d9fc080ef741"
      },
      "source": [
        "grid1.best_params_"
      ],
      "execution_count": 23,
      "outputs": [
        {
          "output_type": "execute_result",
          "data": {
            "text/plain": [
              "{'bandwidth': 0.05263157894736842}"
            ]
          },
          "metadata": {},
          "execution_count": 23
        }
      ]
    },
    {
      "cell_type": "code",
      "metadata": {
        "colab": {
          "base_uri": "https://localhost:8080/"
        },
        "id": "0sLnmkuYLWKU",
        "outputId": "abea3fa0-ecf0-4bee-ff58-4aa797a1b959"
      },
      "source": [
        "r = 1\n",
        "kde1 = KernelDensity(kernel='cosine', bandwidth=0.05263157894736842)\n",
        "kde1.fit(dataTrain.loc[dataTrain['Response']==r, 'L1_S24_F1846'].values.reshape(-1, 1))\n",
        "logProbability1 = kde1.score_samples(dataTest.loc[dataTest['Response']==r, 'L1_S24_F1846'].values.reshape(-1, 1))\n",
        "logProbability1[np.isinf(logProbability1)] = -100 # заменяем -бесконечность\n",
        "logLikehood1 = logProbability1.sum()\n",
        "print(logLikehood1)"
      ],
      "execution_count": 24,
      "outputs": [
        {
          "output_type": "stream",
          "name": "stdout",
          "text": [
            "114.39765891145784\n"
          ]
        }
      ]
    },
    {
      "cell_type": "code",
      "metadata": {
        "id": "bze4AZyeLWKU"
      },
      "source": [
        "# Скорее всего при большей последовательности чисел длч ширины возможно было бы найти еще более полдходящее значение, но это потребует еще бошьшего времени выполнения кроссвалидации"
      ],
      "execution_count": 29,
      "outputs": []
    },
    {
      "cell_type": "markdown",
      "metadata": {
        "id": "hd4pPOWOLWKV"
      },
      "source": [
        "### 3"
      ]
    },
    {
      "cell_type": "markdown",
      "metadata": {
        "id": "lgTZ_82ILWKW"
      },
      "source": [
        "Для найденных наилучших `bandwidth` вычислите `p(x|0)` и `p(x|1)` для тестовой выборки. "
      ]
    },
    {
      "cell_type": "code",
      "metadata": {
        "id": "VFSzuROXLWKW"
      },
      "source": [
        "predictionProbXafter0 = np.exp(kde0.score_samples(dataTest['L1_S24_F1846'].values.reshape(-1, 1)))\n",
        "predictionProbXafter1 = np.exp(kde1.score_samples(dataTest['L1_S24_F1846'].values.reshape(-1, 1)))"
      ],
      "execution_count": 25,
      "outputs": []
    },
    {
      "cell_type": "markdown",
      "metadata": {
        "id": "5CQCbpfRLWKX"
      },
      "source": [
        "По формуле Байеса найдите затем `p(0|x)` и `p(1|x)`. Отсортируйте все объекты тестовой выборки по возрастанию предсказанной вероятности `p(1|x)`, выведите на экран вероятности для последних 10 объектов и рассчитайте количество бракованных деталей среди последних 100 объектов в отсортированном ряду.\n",
        "\n",
        "*Help:*\n",
        "    \n",
        "    ind = np.argsort(predictionProb1afterX) - сортировка, возвращающая индексы элементов\n",
        "    print(predictionProb1afterX[ind[-10:]]) - вывод последних 10 элементов\n",
        "    print(sum(dataTest.loc[ind[-100:],'Response'])) - количество бракованных среди 100 с максимальной вероятностью брака"
      ]
    },
    {
      "cell_type": "code",
      "metadata": {
        "colab": {
          "base_uri": "https://localhost:8080/"
        },
        "id": "j4jTQl8yLWKX",
        "outputId": "5416cb3a-16cc-4e18-99d1-9ce6eeb243bd"
      },
      "source": [
        "Prob0afterX = np.sum(dataframe['Response']==0) / dataframe.shape[0]\n",
        "Prob1afterX = np.sum(dataframe['Response']==1) / dataframe.shape[0]\n",
        "ProbAll = predictionProbXafter0 * Prob0afterX + predictionProbXafter1 * Prob1afterX\n",
        "predictionProb1afterX = predictionProbXafter1 * Prob1afterX / ProbAll"
      ],
      "execution_count": 26,
      "outputs": [
        {
          "output_type": "stream",
          "name": "stderr",
          "text": [
            "/usr/local/lib/python3.7/dist-packages/ipykernel_launcher.py:4: RuntimeWarning: invalid value encountered in true_divide\n",
            "  after removing the cwd from sys.path.\n"
          ]
        }
      ]
    },
    {
      "cell_type": "code",
      "metadata": {
        "id": "vp1YzfZYZ9ps",
        "outputId": "38d5bb6f-1277-4d2e-d398-ee1af5d05c49",
        "colab": {
          "base_uri": "https://localhost:8080/"
        }
      },
      "source": [
        "ind = np.argsort(predictionProb1afterX) \n",
        "print(predictionProb1afterX[ind[-10:]]) \n",
        "print(sum(dataTest.loc[ind[-100:],'Response']), '- количество бракованных среди 100 с максимальной вероятностью брака') "
      ],
      "execution_count": 28,
      "outputs": [
        {
          "output_type": "stream",
          "name": "stdout",
          "text": [
            "[0.61517046 0.61517046 0.61565619 0.61667664 0.61667664 0.61966627\n",
            " 0.63834043 0.67367616 0.67367616        nan]\n",
            "29 - количество бракованных среди 100 с максимальной вероятностью брака\n"
          ]
        }
      ]
    },
    {
      "cell_type": "code",
      "metadata": {
        "id": "81lfP9X0bf2W"
      },
      "source": [
        ""
      ],
      "execution_count": null,
      "outputs": []
    }
  ]
}